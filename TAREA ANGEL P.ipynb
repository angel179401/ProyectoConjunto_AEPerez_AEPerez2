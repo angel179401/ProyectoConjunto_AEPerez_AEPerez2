{
 "cells": [
  {
   "cell_type": "markdown",
   "metadata": {},
   "source": [
    "# TAREA 1\n",
    "## Mi expectativa del curso\n",
    "#### Yo tengo mucha expectativa del curso porque tras haber tenido casi tres años de no haber tenido nada de práctica en alguna actividad de mi vida programando, espero que esta sea una buena oportunidad para poder recuperar algo del conocimiento que habia adquirido anteriormente.\n",
    "Resumen\n",
    "\n",
    "1. La fórmula el rectángulo se obtieneal interpolar a $f(x)$ por medio del polinomio  \n",
    "   constante $p_0(x)= f(\\frac{a+b}{2})$.\n",
    "  \n",
    "    \\begin{gather}\n",
    "    \\int_a^b f(x)dx\\approx(b-a)f(\\frac{a+b}{2})=R(f).\n",
<<<<<<< HEAD
    "    \\end{gather}\n",
    "    \n",
    "    \n",
    "2. La fórmula del trapecio se obtiene al interpolar a $f$por medio de un polinomio lineal<br>$p_1(x)=\\alpha x+\\beta$ que satifaga $f(a)=p_1(a)$, y $f(b)=p_1(b)$. Determinar el polinomio<br>lineal es equivalente a resolver un sistema de ecuaciones lineales para $\\alpha$ y $\\beta$ cuya<br>solución es \n",
    "       \n",
    "   \\begin{gather}\n",
    "   \\alpha=\\frac{f(b)-f(a)}{b-a} \\quad \\beta =\\frac{f(b)a-f(a)b}{b-a}.\n",
    "   \\end{gather}\n",
    "    \n",
    "   Al integrar $p_1(x)$ en el intervalo [a,b] se obtiene la regla del trapecio con $h=b-a$\n",
    "   \n",
    "   \\begin{gather}\n",
    "   \\int_a^b f(x)dx\\approx \\int_a^b p_1(x)dx= \\frac{h}{2}(f(a)+f(b))=T(f).\n",
    "   \\end{gather}\n",
    "\n",
    "   El error está dado por\n",
    "    \n",
    "   \\begin{gather}\n",
    "   \\int_a^b f(x)dx-T(f)=-\\frac{h^3}{12}(f^n(\\eta)), \\quad a < \\eta < b.\n",
    "   \\end{gather}\n",
    "   \n",
    "\n",
    "3. Por último al integrar el polinomio cuadrático que interpola a $f$ en $x=a, x=\\frac{a+b}{2}$,\n",
    "   y $x=b$ se obtiene la regla de Simpson con $h=\\frac{b-a}{2}$ \n",
    "   \n",
    "   \\begin{gather}\n",
    "   \\int_a^b f(x)dx\\approx \\int_a^b p_2(x)dx=\\frac{h}{3}(f(a)+4f(a+h)+f(b))=S(f).\n",
    "   \\end{gather}\n",
    "   \n",
    "   El error que se comete al usar Simpson es  \n",
    "  \n",
    "   \\begin{gather}\n",
    "   \\int_a^b f(x)dx-S(f)=\\frac{h^5}{90}(f^{(4)}(\\eta)); \\quad a < \\eta < b.\n",
    "   \\end{gather}\n",
    "\n"
=======
    "    \\end{gather}\n"
>>>>>>> master
   ]
  },
  {
   "cell_type": "code",
   "execution_count": null,
   "metadata": {},
   "outputs": [],
   "source": []
  }
 ],
 "metadata": {
  "kernelspec": {
   "display_name": "Python 3",
   "language": "python",
   "name": "python3"
  },
  "language_info": {
   "codemirror_mode": {
    "name": "ipython",
    "version": 3
   },
   "file_extension": ".py",
   "mimetype": "text/x-python",
   "name": "python",
   "nbconvert_exporter": "python",
   "pygments_lexer": "ipython3",
   "version": "3.7.4"
  }
 },
 "nbformat": 4,
 "nbformat_minor": 2
}
