{
 "cells": [
  {
   "cell_type": "markdown",
   "metadata": {},
   "source": [
    "# TAREA 1\n",
    "## Mi expectativa del curso\n",
    "#### Yo tengo mucha expectativa del curso porque tras haber tenido casi tres años de no haber tenido nada de práctica en alguna actividad de mi vida programando, espero que esta sea una buena oportunidad para poder recuperar algo del conocimiento que habia adquirido anteriormente.\n",
    "Resumen\n",
    "\n",
    "1. La fórmula el rectángulo se obtieneal interpolar a $f(x)$ por medio del polinomio  \n",
    "   constante $p_0(x)= f(\\frac{a+b}{2})$.\n",
    "  \n",
    "    \\begin{gather}\n",
    "    \\int_a^b f(x)dx\\approx(b-a)f(\\frac{a+b}{2})=R(f).\n",
    "    \\end{gather}\n",
    "    \n",
    "    \n",
    "2. La fórmula del trapecio se obtiene al interpolar a $f$por medio de un polinomio lineal<br>$p_1(x)=\\alpha x+\\beta$ que satifaga $f(a)=p_1(a)$, y $f(b)=p_1(b)$. Determinar el polinomio<br>lineal es equivalente a resolver un sistema de ecuaciones lineales para $\\alpha$ y $\\beta$ cuya<br>solución es \n",
    "       \n",
    "   \\begin{gather}\n",
    "   \\alpha=\\frac{f(b)-f(a)}{b-a} \\quad \\beta =\\frac{f(b)a-f(a)b}{b-a}.\n",
    "   \\end{gather}\n",
    "    \n",
    "   Al integrar $p_1(x)$ en el intervalo [a,b] se obtiene la regla del trapecio con $h=b-a$\n",
    "   \n",
    "   \\begin{gather}\n",
    "   \\int_a^b f(x)dx\\approx \\int_a^b p_1(x)dx= \\frac{h}{2}(f(a)+f(b))=T(f).\n",
    "   \\end{gather}\n",
    "\n",
    "   El error está dado por\n",
    "    \n",
    "   \\begin{gather}\n",
    "   \\int_a^b f(x)dx-T(f)=-\\frac{h^3}{12}(f^n(\\eta)), \\quad a < \\eta < b.\n",
    "   \\end{gather}\n",
    "   \n",
    "\n",
    "3. Por último al integrar el polinomio cuadrático que interpola a $f$ en $x=a, x=\\frac{a+b}{2}$,\n",
    "   y $x=b$ se obtiene la regla de Simpson con $h=\\frac{b-a}{2}$ \n",
    "   \n",
    "   \\begin{gather}\n",
    "   \\int_a^b f(x)dx\\approx \\int_a^b p_2(x)dx=\\frac{h}{3}(f(a)+4f(a+h)+f(b))=S(f).\n",
    "   \\end{gather}\n",
    "   \n",
    "   El error que se comete al usar Simpson es  \n",
    "  \n",
    "   \\begin{gather}\n",
    "   \\int_a^b f(x)dx-S(f)=\\frac{h^5}{90}(f^{(4)}(\\eta)); \\quad a < \\eta < b.\n",
    "   \\end{gather}\n",
    "\n"
   ]
  },
  {
   "cell_type": "code",
   "execution_count": 4,
   "metadata": {},
   "outputs": [
    {
     "name": "stdout",
     "output_type": "stream",
     "text": [
      "[0, 1, 1, 2, 3, 5, 8, 13, 21, 34, 55, 89, 144, 233, 377, 610, 987, 1597, 2584, 4181, 6765, 10946, 17711, 28657, 46368, 75025, 121393, 196418, 317811, 514229, 832040, 1346269, 2178309, 3524578, 5702887, 9227465, 14930352, 24157817, 39088169, 63245986, 102334155, 165580141, 267914296, 433494437, 701408733, 1134903170, 1836311903, 2971215073, 4807526976, 7778742049, 12586269025, 20365011074, 32951280099, 53316291173, 86267571272, 139583862445, 225851433717, 365435296162, 591286729879, 956722026041, 1548008755920, 2504730781961, 4052739537881, 6557470319842, 10610209857723, 17167680177565, 27777890035288, 44945570212853, 72723460248141, 117669030460994, 190392490709135, 308061521170129, 498454011879264, 806515533049393, 1304969544928657, 2111485077978050, 3416454622906707, 5527939700884757, 8944394323791464, 14472334024676221, 23416728348467685, 37889062373143906, 61305790721611591, 99194853094755497, 160500643816367088, 259695496911122585, 420196140727489673, 679891637638612258, 1100087778366101931, 1779979416004714189, 2880067194370816120, 4660046610375530309, 7540113804746346429, 12200160415121876738, 19740274219868223167, 31940434634990099905, 51680708854858323072, 83621143489848422977, 135301852344706746049, 218922995834555169026]\n"
     ]
    },
    {
     "data": {
      "text/plain": [
       "100"
      ]
     },
     "execution_count": 4,
     "metadata": {},
     "output_type": "execute_result"
    }
   ],
   "source": [
    "#Serie Fibonacci\n",
    "fibonacci=[0,1]\n",
    "for i in range(2,100):\n",
    "    fibonacci.append(fibonacci[-1]+fibonacci[-2])\n",
    "\n",
    "print(fibonacci)\n",
    "len(fibonacci)"
   ]
  },
  {
   "cell_type": "code",
   "execution_count": 6,
   "metadata": {},
   "outputs": [
    {
     "name": "stdout",
     "output_type": "stream",
     "text": [
      "[2, 3, 5, 7, 11, 13, 17, 19, 23, 29, 31, 37, 41, 43, 47, 53, 59, 61, 67, 71, 73, 79, 83, 89, 97]\n"
     ]
    }
   ],
   "source": [
    "#Generador de números primos \n",
    "\n",
    "def Gen_primos():\n",
    "    inicio = 2\n",
    "    yield inicio\n",
    "    \n",
    "    while True:\n",
    "        Temporal = inicio\n",
    "        \n",
    "        while True:\n",
    "            Temporal += 1\n",
    "            Cuenta = 1\n",
    "            Cuenta_div = 0\n",
    "        \n",
    "            while Cuenta <= Temporal:\n",
    "                if Temporal % Cuenta == 0:\n",
    "                    Cuenta_div += 1\n",
    "                \n",
    "                if Cuenta_div > 2:\n",
    "                    break\n",
    "                \n",
    "                Cuenta += 1\n",
    "        \n",
    "            if Cuenta_div == 2:\n",
    "                yield Temporal\n",
    "                \n",
    "            \n",
    "\n",
    "Generar = Gen_primos()\n",
    "\n",
    "Num_primos = [next(Generar) for _ in range(25)]\n",
    "\n",
    "print(Num_primos)"
   ]
  },
  {
   "cell_type": "code",
   "execution_count": null,
   "metadata": {},
   "outputs": [],
   "source": []
  }
 ],
 "metadata": {
  "kernelspec": {
   "display_name": "Python 3",
   "language": "python",
   "name": "python3"
  },
  "language_info": {
   "codemirror_mode": {
    "name": "ipython",
    "version": 3
   },
   "file_extension": ".py",
   "mimetype": "text/x-python",
   "name": "python",
   "nbconvert_exporter": "python",
   "pygments_lexer": "ipython3",
   "version": "3.7.4"
  }
 },
 "nbformat": 4,
 "nbformat_minor": 2
}
