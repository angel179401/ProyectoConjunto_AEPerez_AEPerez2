{
 "cells": [
  {
   "cell_type": "markdown",
   "metadata": {},
   "source": [
    "# TAREA 1\n",
    "## Mi expectativa del curso\n",
    "#### Yo tengo mucha expectativa del curso porque tras haber tenido casi tres años de no haber tenido nada de práctica en alguna actividad de mi vida programando, espero que esta sea una buena oportunidad para poder recuperar algo del conocimiento que habia adquirido anteriormente.\n",
    "Resumen\n",
    "\n",
    "1. La fórmula el rectángulo se obtieneal interpolar a $f(x)$ por medio del polinomio  \n",
    "   constante $p_0(x)= f(\\frac{a+b}{2})$.\n",
    "  \n",
    "    \\begin{gather}\n",
    "    \\int_a^b f(x)dx\\approx(b-a)f(\\frac{a+b}{2})=R(f).\n",
    "    \\end{gather}\n"
   ]
  },
  {
   "cell_type": "code",
   "execution_count": null,
   "metadata": {},
   "outputs": [],
   "source": []
  }
 ],
 "metadata": {
  "kernelspec": {
   "display_name": "Python 3",
   "language": "python",
   "name": "python3"
  },
  "language_info": {
   "codemirror_mode": {
    "name": "ipython",
    "version": 3
   },
   "file_extension": ".py",
   "mimetype": "text/x-python",
   "name": "python",
   "nbconvert_exporter": "python",
   "pygments_lexer": "ipython3",
   "version": "3.7.4"
  }
 },
 "nbformat": 4,
 "nbformat_minor": 2
}
